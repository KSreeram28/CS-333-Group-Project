{
 "cells": [
  {
   "cell_type": "code",
   "execution_count": 1,
   "id": "initial_id",
   "metadata": {
    "collapsed": true,
    "ExecuteTime": {
     "end_time": "2023-11-22T00:28:04.581739Z",
     "start_time": "2023-11-22T00:28:03.961740Z"
    }
   },
   "outputs": [],
   "source": [
    "import numpy as np\n",
    "import pandas as pd"
   ]
  },
  {
   "cell_type": "code",
   "execution_count": 2,
   "outputs": [],
   "source": [
    "data = pd.read_csv(\"data_new.csv\")"
   ],
   "metadata": {
    "collapsed": false,
    "ExecuteTime": {
     "end_time": "2023-11-22T00:28:05.070921Z",
     "start_time": "2023-11-22T00:28:04.122167Z"
    }
   },
   "id": "135c466878d7aa69"
  },
  {
   "cell_type": "code",
   "execution_count": 3,
   "outputs": [
    {
     "name": "stdout",
     "output_type": "stream",
     "text": [
      "Number of missing values in each column:\n",
      "id                     0\n",
      "risk_score_t           0\n",
      "program_enrolled_t     0\n",
      "cost_t                 0\n",
      "cost_avoidable_t       0\n",
      "                      ..\n",
      "trig_max-low_tm1       0\n",
      "trig_max-high_tm1      0\n",
      "trig_max-normal_tm1    0\n",
      "gagne_sum_tm1          0\n",
      "gagne_sum_t            0\n",
      "Length: 161, dtype: int64\n",
      "\n",
      "Total number of missing values in the DataFrame: 127857\n"
     ]
    }
   ],
   "source": [
    "# To find how much missing data is in each column:\n",
    "# Count the missing values in each column\n",
    "missing_values = data.isnull().sum()\n",
    "\n",
    "# Sum the total number of missing values in the entire DataFrame\n",
    "total_missing_values = missing_values.sum()\n",
    "\n",
    "# Print the results\n",
    "print(\"Number of missing values in each column:\")\n",
    "print(missing_values)\n",
    "print(\"\\nTotal number of missing values in the DataFrame:\", total_missing_values)"
   ],
   "metadata": {
    "collapsed": false,
    "ExecuteTime": {
     "end_time": "2023-11-22T00:28:10.871686Z",
     "start_time": "2023-11-22T00:28:10.747279Z"
    }
   },
   "id": "270c62bfcca539fb"
  },
  {
   "cell_type": "code",
   "execution_count": null,
   "outputs": [],
   "source": [],
   "metadata": {
    "collapsed": false
   },
   "id": "7271ceefaae288bb"
  }
 ],
 "metadata": {
  "kernelspec": {
   "display_name": "Python 3",
   "language": "python",
   "name": "python3"
  },
  "language_info": {
   "codemirror_mode": {
    "name": "ipython",
    "version": 2
   },
   "file_extension": ".py",
   "mimetype": "text/x-python",
   "name": "python",
   "nbconvert_exporter": "python",
   "pygments_lexer": "ipython2",
   "version": "2.7.6"
  }
 },
 "nbformat": 4,
 "nbformat_minor": 5
}

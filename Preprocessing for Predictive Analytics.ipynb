{
 "cells": [
  {
   "cell_type": "code",
   "execution_count": 1,
   "id": "initial_id",
   "metadata": {
    "collapsed": true,
    "ExecuteTime": {
     "end_time": "2023-11-22T00:28:04.581739Z",
     "start_time": "2023-11-22T00:28:03.961740Z"
    }
   },
   "outputs": [],
   "source": [
    "import numpy as np\n",
    "import pandas as pd"
   ]
  },
  {
   "cell_type": "code",
   "execution_count": 31,
   "outputs": [],
   "source": [
    "data = pd.read_csv(\"data_new.csv\")"
   ],
   "metadata": {
    "collapsed": false,
    "ExecuteTime": {
     "end_time": "2023-11-22T01:50:06.174564Z",
     "start_time": "2023-11-22T01:50:05.817140Z"
    }
   },
   "id": "135c466878d7aa69"
  },
  {
   "cell_type": "code",
   "execution_count": 3,
   "outputs": [
    {
     "name": "stdout",
     "output_type": "stream",
     "text": [
      "Number of missing values in each column:\n",
      "id                     0\n",
      "risk_score_t           0\n",
      "program_enrolled_t     0\n",
      "cost_t                 0\n",
      "cost_avoidable_t       0\n",
      "                      ..\n",
      "trig_max-low_tm1       0\n",
      "trig_max-high_tm1      0\n",
      "trig_max-normal_tm1    0\n",
      "gagne_sum_tm1          0\n",
      "gagne_sum_t            0\n",
      "Length: 161, dtype: int64\n",
      "\n",
      "Total number of missing values in the DataFrame: 127857\n"
     ]
    }
   ],
   "source": [
    "# To find how much missing data is in each column:\n",
    "# Count the missing values in each column\n",
    "missing_values = data.isnull().sum()\n",
    "\n",
    "# Sum the total number of missing values in the entire DataFrame\n",
    "total_missing_values = missing_values.sum()\n",
    "\n",
    "# Print the results\n",
    "print(\"Number of missing values in each column:\")\n",
    "print(missing_values)\n",
    "print(\"\\nTotal number of missing values in the DataFrame:\", total_missing_values)"
   ],
   "metadata": {
    "collapsed": false,
    "ExecuteTime": {
     "end_time": "2023-11-22T00:28:10.871686Z",
     "start_time": "2023-11-22T00:28:10.747279Z"
    }
   },
   "id": "270c62bfcca539fb"
  },
  {
   "cell_type": "code",
   "execution_count": null,
   "outputs": [],
   "source": [
    "data_drop = data.dropna()"
   ],
   "metadata": {
    "collapsed": false
   },
   "id": "7271ceefaae288bb"
  },
  {
   "cell_type": "markdown",
   "source": [
    "If we drop all the NaN values, there will be an imbalanced number of white and black subjects, therefore, we will perform imputation."
   ],
   "metadata": {
    "collapsed": false
   },
   "id": "1bb85a02e6b328be"
  },
  {
   "cell_type": "code",
   "execution_count": 11,
   "outputs": [],
   "source": [
    "from sklearn.impute import SimpleImputer, KNNImputer\n",
    "from sklearn.metrics import mean_squared_error\n",
    "from sklearn.model_selection import train_test_split\n",
    "from sklearn.linear_model import LinearRegression\n",
    "from sklearn.experimental import enable_iterative_imputer\n",
    "from sklearn.impute import IterativeImputer\n",
    "from sklearn.ensemble import RandomForestRegressor\n",
    "from sklearn.preprocessing import MinMaxScaler\n",
    "from sklearn.pipeline import Pipeline\n",
    "from sklearn.compose import ColumnTransformer\n",
    "from sklearn.decomposition import PCA\n",
    "from sklearn.experimental import enable_iterative_imputer\n",
    "from sklearn.impute import IterativeImputer\n",
    "from sklearn.pipeline import Pipeline\n",
    "\n"
   ],
   "metadata": {
    "collapsed": false,
    "ExecuteTime": {
     "end_time": "2023-11-22T00:38:00.935516Z",
     "start_time": "2023-11-22T00:38:00.779303Z"
    }
   },
   "id": "8d39cea11ba6b3cf"
  },
  {
   "cell_type": "markdown",
   "source": [],
   "metadata": {
    "collapsed": false
   },
   "id": "120f066774039be4"
  },
  {
   "cell_type": "code",
   "execution_count": 32,
   "outputs": [],
   "source": [
    "race_mapping = {'black': 0, 'white': 1}\n",
    "\n",
    "# Apply the mapping to the 'Race' column\n",
    "data['race'] = data['race'].map(race_mapping)\n",
    "data_use = data.drop(columns = [\"id\",\"program_enrolled_t\", \"cost_t\", \"cost_avoidable_t\", \"cost_emergency_tm1\", \"cost_home_health_tm1\", \"cost_ip_medical_tm1\", \"cost_ip_surgical_tm1\", \"cost_laboratory_tm1\", \"cost_op_primary_care_tm1\", \"cost_op_specialists_tm1\", \"cost_op_surgery_tm1\", \"cost_other_tm1\", \"cost_pharmacy_tm1\", \"cost_physical_therapy_tm1\", \"cost_radiology_tm1\"])"
   ],
   "metadata": {
    "collapsed": false,
    "ExecuteTime": {
     "end_time": "2023-11-22T01:50:13.061939Z",
     "start_time": "2023-11-22T01:50:12.932602Z"
    }
   },
   "id": "189752000c77e063"
  },
  {
   "cell_type": "code",
   "execution_count": 36,
   "outputs": [],
   "source": [
    "def evaluate_imputation(X, y, imputer, model):\n",
    "    print(np.sum(np.isnan(X), axis = 0).sum())\n",
    "    X_imputed = imputer.fit_transform(X)\n",
    "    # To check that imputation worked\n",
    "    missing_values = np.sum(np.isnan(X_imputed), axis=0)\n",
    "\n",
    "    print(\"Number of missing values: \", missing_values.sum())\n",
    "    X_train, X_test, y_train, y_test = train_test_split(X_imputed, y, test_size=0.2, random_state=42)\n",
    "\n",
    "    model.fit(X_train, y_train)\n",
    "    y_pred = model.predict(X_test)\n",
    "    \n",
    "    mse = mean_squared_error(y_test, y_pred)\n",
    "    return mse"
   ],
   "metadata": {
    "collapsed": false,
    "ExecuteTime": {
     "end_time": "2023-11-22T01:51:09.106961Z",
     "start_time": "2023-11-22T01:51:09.046054Z"
    }
   },
   "id": "ccb047edd85dacc6"
  },
  {
   "cell_type": "code",
   "execution_count": 37,
   "outputs": [
    {
     "name": "stdout",
     "output_type": "stream",
     "text": [
      "127857\n",
      "Number of missing values:  0\n",
      "Mean Imputation MSE: 14.202401501649728\n"
     ]
    }
   ],
   "source": [
    "mean_imputer = SimpleImputer(strategy='mean')\n",
    "mean_mse = evaluate_imputation(data_use.drop('risk_score_t', axis=1), data_use['risk_score_t'], mean_imputer, LinearRegression())\n",
    "print(f\"Mean Imputation MSE: {mean_mse}\")"
   ],
   "metadata": {
    "collapsed": false,
    "ExecuteTime": {
     "end_time": "2023-11-22T01:51:14.071185Z",
     "start_time": "2023-11-22T01:51:11.304558Z"
    }
   },
   "id": "ebcd50f58ec0fd35"
  },
  {
   "cell_type": "code",
   "execution_count": 38,
   "outputs": [
    {
     "name": "stdout",
     "output_type": "stream",
     "text": [
      "127857\n",
      "Number of missing values:  0\n",
      "Median Imputation MSE: 14.189681550319609\n"
     ]
    }
   ],
   "source": [
    "# Median imputation\n",
    "median_imputer = SimpleImputer(strategy='median')\n",
    "median_mse = evaluate_imputation(data_use.drop('risk_score_t', axis=1), data_use['risk_score_t'], median_imputer, LinearRegression())\n",
    "print(f\"Median Imputation MSE: {median_mse}\")"
   ],
   "metadata": {
    "collapsed": false,
    "ExecuteTime": {
     "end_time": "2023-11-22T01:51:24.762647Z",
     "start_time": "2023-11-22T01:51:17.857649Z"
    }
   },
   "id": "f73eeb52a672161e"
  },
  {
   "cell_type": "code",
   "execution_count": 26,
   "outputs": [
    {
     "name": "stdout",
     "output_type": "stream",
     "text": [
      "176641\n",
      "Number of missing values:  0\n",
      "KNN Imputation MSE: 13.827733774434314\n"
     ]
    }
   ],
   "source": [
    "knn_imputer = KNNImputer(n_neighbors=5)\n",
    "knn_mse = evaluate_imputation(data_use.drop('risk_score_t', axis=1), data_use['risk_score_t'], knn_imputer, LinearRegression())\n",
    "print(f\"KNN Imputation MSE: {knn_mse}\")"
   ],
   "metadata": {
    "collapsed": false,
    "ExecuteTime": {
     "end_time": "2023-11-22T01:46:30.277541Z",
     "start_time": "2023-11-22T01:39:12.321882Z"
    }
   },
   "id": "b97fe66524570827"
  },
  {
   "cell_type": "markdown",
   "source": [
    "The KNN imputation strategy seems to have the lowest loss and provide the closest estimate. \n"
   ],
   "metadata": {
    "collapsed": false
   },
   "id": "eddaddcc9e148e17"
  },
  {
   "cell_type": "code",
   "execution_count": null,
   "outputs": [],
   "source": [
    "X_imputed = knn_imputer.fit_transform(data_use)\n",
    "imputed_df = pd.DataFrame(X_imputed, columns = data_use.columns)"
   ],
   "metadata": {
    "collapsed": false,
    "is_executing": true,
    "ExecuteTime": {
     "start_time": "2023-11-22T01:51:45.470742Z"
    }
   },
   "id": "4045376470cef494"
  },
  {
   "cell_type": "code",
   "execution_count": 28,
   "outputs": [
    {
     "data": {
      "text/plain": "array([[  1.98742993, 127.33327212,   5.4       , ...,   0.        ,\n          0.        ,   0.        ],\n       [  7.67793443, 119.        ,   5.5       , ...,   1.        ,\n          4.        ,   3.        ],\n       [  0.40767793, 127.33327212,   5.95933067, ...,   0.        ,\n          0.        ,   0.        ],\n       ...,\n       [  1.35892645, 105.        ,   5.95933067, ...,   1.        ,\n          1.        ,   0.        ],\n       [ 10.99031765, 132.        ,   5.95933067, ...,   0.        ,\n          3.        ,   3.        ],\n       [  1.68167148, 115.        ,   5.6       , ...,   0.        ,\n          0.        ,   0.        ]])"
     },
     "execution_count": 28,
     "metadata": {},
     "output_type": "execute_result"
    }
   ],
   "source": [],
   "metadata": {
    "collapsed": false,
    "ExecuteTime": {
     "end_time": "2023-11-22T01:48:08.217156Z",
     "start_time": "2023-11-22T01:48:08.063375Z"
    }
   },
   "id": "8ce809b8c900c0d6"
  }
 ],
 "metadata": {
  "kernelspec": {
   "display_name": "Python 3",
   "language": "python",
   "name": "python3"
  },
  "language_info": {
   "codemirror_mode": {
    "name": "ipython",
    "version": 2
   },
   "file_extension": ".py",
   "mimetype": "text/x-python",
   "name": "python",
   "nbconvert_exporter": "python",
   "pygments_lexer": "ipython2",
   "version": "2.7.6"
  }
 },
 "nbformat": 4,
 "nbformat_minor": 5
}
